{
 "cells": [
  {
   "cell_type": "code",
   "execution_count": null,
   "id": "bulgarian-interference",
   "metadata": {},
   "outputs": [],
   "source": [
    "import pandas as pd\n",
    "import numpy as np\n",
    "from timeit import default_timer\n",
    "from pymatgen.ext.matproj import MPRester\n",
    "\n",
    "m = MPRester('N1mVV71oB4tEQmdioxJE')"
   ]
  },
  {
   "cell_type": "code",
   "execution_count": null,
   "id": "af74a172",
   "metadata": {},
   "outputs": [],
   "source": [
    "def format_mpid(x):\n",
    "    if x.startswith('['):\n",
    "        return eval(x)\n",
    "    else:\n",
    "        return x"
   ]
  },
  {
   "cell_type": "code",
   "execution_count": null,
   "id": "central-intensity",
   "metadata": {},
   "outputs": [],
   "source": [
    "infile = '../data/icsd_query.csv'\n",
    "outfile = '../data/xas_query.csv'\n",
    "start_idx = 0\n",
    "\n",
    "if start_idx:\n",
    "    df = pd.read_csv(outfile)\n",
    "    df['elements'] = df['elements'].apply(eval)\n",
    "    df['mp_id'] = df['mp_id'].apply(format_mpid)\n",
    "else:\n",
    "    df = pd.read_csv(infile)\n",
    "    df['elements'] = df['elements'].apply(eval)\n",
    "    df['mp_id'] = df['mp_id'].apply(eval)\n",
    "    df = df[df['mp_id'].str.len() > 0].reset_index(drop=True)\n",
    "    df['structure'] = np.empty((len(df), 0)).tolist()\n",
    "    df['spectra'] = np.empty((len(df), 0)).tolist()"
   ]
  },
  {
   "cell_type": "code",
   "execution_count": null,
   "id": "moved-hartford",
   "metadata": {},
   "outputs": [],
   "source": [
    "ti = default_timer()    # checkpoint time\n",
    "checkpoint = 1000\n",
    "L = len(df.iloc[start_idx:])\n",
    "\n",
    "for i, entry in enumerate(df.iloc[start_idx:].itertuples()):\n",
    "    for mp_id in entry.mp_id:\n",
    "        l = dict.fromkeys(entry.elements)\n",
    "        for absorbing_atom in entry.elements:\n",
    "            try: xas = m.get_xas_data(mp_id, absorbing_atom)\n",
    "            except:\n",
    "                # element is missing xas spectrum\n",
    "                break\n",
    "            else:\n",
    "                struct = xas['spectrum']['structure']\n",
    "                l[absorbing_atom] = {'x': xas['spectrum']['x'], 'y': xas['spectrum']['y']}\n",
    "        \n",
    "        if not any(v == None for v in l.values()):\n",
    "            df.at[entry.Index, 'structure'] = struct\n",
    "            df.at[entry.Index, 'spectra'] = l\n",
    "            df.at[entry.Index, 'mp_id'] = mp_id\n",
    "            break\n",
    "        \n",
    "    \n",
    "    # save checkpoint\n",
    "    if (i+1)%checkpoint == 0:\n",
    "        df.to_csv(outfile, index=False)\n",
    "        tf = default_timer()\n",
    "        print(i+1, '/', L, ':', tf-ti, 'sec.')\n",
    "        ti = tf\n",
    "        \n",
    "# final save\n",
    "df.to_csv(outfile, index=False)"
   ]
  },
  {
   "cell_type": "code",
   "execution_count": null,
   "id": "5f787798",
   "metadata": {},
   "outputs": [],
   "source": []
  }
 ],
 "metadata": {
  "kernelspec": {
   "display_name": "Python 3 (ipykernel)",
   "language": "python",
   "name": "python3"
  },
  "language_info": {
   "codemirror_mode": {
    "name": "ipython",
    "version": 3
   },
   "file_extension": ".py",
   "mimetype": "text/x-python",
   "name": "python",
   "nbconvert_exporter": "python",
   "pygments_lexer": "ipython3",
   "version": "3.7.5"
  }
 },
 "nbformat": 4,
 "nbformat_minor": 5
}
