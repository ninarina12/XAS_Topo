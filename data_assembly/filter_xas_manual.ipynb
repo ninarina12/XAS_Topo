{
 "cells": [
  {
   "cell_type": "code",
   "execution_count": 8,
   "id": "analyzed-tulsa",
   "metadata": {},
   "outputs": [],
   "source": [
    "import pandas as pd\n",
    "import numpy as np\n",
    "from pymatgen.core.structure import Structure\n",
    "from pymatgen.analysis.magnetism.analyzer import CollinearMagneticStructureAnalyzer"
   ]
  },
  {
   "cell_type": "code",
   "execution_count": 2,
   "id": "tight-persian",
   "metadata": {},
   "outputs": [
    {
     "name": "stdout",
     "output_type": "stream",
     "text": [
      "total spectra: 32639\n"
     ]
    }
   ],
   "source": [
    "df = pd.read_csv('../data/xas_manual_query.csv')\n",
    "df['elements'] = df['elements'].apply(eval)\n",
    "df['spectra'] = df['spectra'].apply(eval)\n",
    "print('total spectra:', len(df))"
   ]
  },
  {
   "cell_type": "code",
   "execution_count": 3,
   "id": "current-royalty",
   "metadata": {},
   "outputs": [
    {
     "name": "stdout",
     "output_type": "stream",
     "text": [
      "total spectra: 19921\n"
     ]
    }
   ],
   "source": [
    "# remove entries without xas spectra\n",
    "df = df[df['spectra'].str.len()>0].reset_index(drop=True)\n",
    "print('total spectra:', len(df))"
   ]
  },
  {
   "cell_type": "code",
   "execution_count": 4,
   "id": "artificial-malawi",
   "metadata": {},
   "outputs": [
    {
     "name": "stdout",
     "output_type": "stream",
     "text": [
      "total spectra: 19921\n"
     ]
    }
   ],
   "source": [
    "# remove entries with NaNs in spectra\n",
    "nan_ids = []\n",
    "for i, entry in enumerate(df.itertuples()):\n",
    "    for _, xas in entry.spectra.items():\n",
    "        if np.any(np.isnan(xas['x'])) | np.any(np.isnan(xas['y'])):\n",
    "            nan_ids += [i]\n",
    "            break\n",
    "        \n",
    "df = df[~df.index.isin(nan_ids)].reset_index(drop=True)\n",
    "print('total spectra:', len(df))"
   ]
  },
  {
   "cell_type": "code",
   "execution_count": 5,
   "id": "departmental-england",
   "metadata": {},
   "outputs": [
    {
     "name": "stdout",
     "output_type": "stream",
     "text": [
      "total spectra: 19903\n"
     ]
    }
   ],
   "source": [
    "# remove flat spectra\n",
    "tol = 1e-3\n",
    "flat_ids = []\n",
    "for i, entry in enumerate(df.itertuples()):\n",
    "    for _, xas in entry.spectra.items():\n",
    "        if np.all(np.array(xas['y']) < tol):\n",
    "            flat_ids += [i]\n",
    "            break\n",
    "        \n",
    "df = df[~df.index.isin(flat_ids)].reset_index(drop=True)\n",
    "print('total spectra:', len(df))"
   ]
  },
  {
   "cell_type": "code",
   "execution_count": 6,
   "id": "8c0f4d65",
   "metadata": {},
   "outputs": [],
   "source": [
    "# standardize class representation\n",
    "def band_to_class(x):\n",
    "    if x < 1:\n",
    "        # trivial\n",
    "        c = 3\n",
    "    elif x < 3:\n",
    "        # topological insulator\n",
    "        c = 1\n",
    "    else:\n",
    "        # topological semimetal\n",
    "        c = 2\n",
    "    return c\n",
    "df['class'] = df['band'].map(lambda x: band_to_class(x))\n",
    "\n",
    "# standardize formula representation\n",
    "df['structure'] = df['structure'].apply(eval).apply(Structure.from_dict)\n",
    "df['structure'] = df['structure'].map(lambda x: x.get_primitive_structure())\n",
    "df['formula'] = df['structure'].map(lambda x: x.formula)"
   ]
  },
  {
   "cell_type": "code",
   "execution_count": 9,
   "id": "ddd92fc6",
   "metadata": {},
   "outputs": [
    {
     "name": "stdout",
     "output_type": "stream",
     "text": [
      "remove: 6560\n",
      "remove: 9458\n",
      "remove: 9492\n"
     ]
    }
   ],
   "source": [
    "# apply structural filters\n",
    "drop_ids = []\n",
    "\n",
    "# remove structures with more than N atoms in primitive cell and alloys\n",
    "N = 30\n",
    "for entry in df.itertuples():\n",
    "    if (entry.structure.num_sites > N) or not (entry.structure.is_ordered):\n",
    "        drop_ids += [entry.Index]\n",
    "print('remove:', len(drop_ids))\n",
    "\n",
    "# remove certain f-electron atoms\n",
    "atoms = ['Pu', 'Lu', 'Tm', 'Er', 'Pr', 'Nd', 'Pm', 'Eu', 'Gd', 'Tb', 'Dy', 'Xe', 'Sm']\n",
    "for entry in df.itertuples():\n",
    "    if any(k for k in entry.elements if k in atoms):\n",
    "        drop_ids += [entry.Index]\n",
    "print('remove:', len(drop_ids))\n",
    "\n",
    "# remove magnetic atoms or compounds       \n",
    "for entry in df.itertuples():\n",
    "    if CollinearMagneticStructureAnalyzer(entry.structure).is_magnetic:\n",
    "        drop_ids += [entry.Index]\n",
    "print('remove:', len(drop_ids))"
   ]
  },
  {
   "cell_type": "code",
   "execution_count": 12,
   "id": "44eef74b",
   "metadata": {},
   "outputs": [
    {
     "name": "stdout",
     "output_type": "stream",
     "text": [
      "total spectra: 11245\n"
     ]
    }
   ],
   "source": [
    "# drop filtered entries\n",
    "df = df.drop(drop_ids).reset_index(drop=True)\n",
    "print('total spectra:', len(df))"
   ]
  },
  {
   "cell_type": "code",
   "execution_count": 13,
   "id": "knowing-american",
   "metadata": {},
   "outputs": [],
   "source": [
    "# save data\n",
    "df['structure'] = df['structure'].map(lambda x: x.as_dict())\n",
    "columns = ['icsd', 'formula', 'spacegroup', 'class', 'mp_id', 'structure', 'spectra']\n",
    "df.to_csv('../data/data_manual.csv', columns=columns, index=False)"
   ]
  },
  {
   "cell_type": "code",
   "execution_count": null,
   "id": "b951694a",
   "metadata": {},
   "outputs": [],
   "source": []
  }
 ],
 "metadata": {
  "kernelspec": {
   "display_name": "Python 3 (ipykernel)",
   "language": "python",
   "name": "python3"
  },
  "language_info": {
   "codemirror_mode": {
    "name": "ipython",
    "version": 3
   },
   "file_extension": ".py",
   "mimetype": "text/x-python",
   "name": "python",
   "nbconvert_exporter": "python",
   "pygments_lexer": "ipython3",
   "version": "3.7.5"
  }
 },
 "nbformat": 4,
 "nbformat_minor": 5
}
