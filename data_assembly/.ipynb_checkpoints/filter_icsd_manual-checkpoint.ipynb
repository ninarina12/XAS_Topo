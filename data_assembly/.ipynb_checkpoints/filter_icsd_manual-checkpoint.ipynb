{
 "cells": [
  {
   "cell_type": "code",
   "execution_count": 1,
   "id": "87e52418",
   "metadata": {},
   "outputs": [],
   "source": [
    "import pandas as pd\n",
    "import numpy as np\n",
    "import re\n",
    "from timeit import default_timer\n",
    "from pymatgen.ext.matproj import MPRester\n",
    "\n",
    "m = MPRester('N1mVV71oB4tEQmdioxJE')"
   ]
  },
  {
   "cell_type": "code",
   "execution_count": 2,
   "id": "b80b4632",
   "metadata": {},
   "outputs": [],
   "source": [
    "def get_element(x):\n",
    "    return re.split(r'(\\d*\\.?\\d+)', x)[:-1:2]\n",
    "\n",
    "def get_species(data):\n",
    "    species = set()\n",
    "    for entry in data.itertuples():\n",
    "        species = species.union(entry.elements)\n",
    "    return sorted(list(species))"
   ]
  },
  {
   "cell_type": "code",
   "execution_count": 3,
   "id": "1eb6547f",
   "metadata": {},
   "outputs": [],
   "source": [
    "infile = '../data/icsd_manual_process.csv'\n",
    "outfile = '../data/icsd_manual_query.csv'\n",
    "start_idx = 0\n",
    "\n",
    "if start_idx:\n",
    "    icsd = pd.read_csv(outfile)\n",
    "    icsd['elements'] = icsd['elements'].apply(eval)\n",
    "    icsd['mp_id'] = icsd['mp_id'].apply(eval)\n",
    "else:\n",
    "    icsd = pd.read_csv(infile)\n",
    "    icsd['formula'] = icsd['formula'].apply(str)\n",
    "    icsd['icsd'] = icsd['icsd'].apply(int)\n",
    "    icsd['elements'] = icsd['formula'].map(lambda x: get_element(x))\n",
    "    icsd['mp_id'] = np.empty((len(icsd), 0)).tolist()"
   ]
  },
  {
   "cell_type": "code",
   "execution_count": null,
   "id": "71d28a5d",
   "metadata": {},
   "outputs": [],
   "source": [
    "ti = default_timer()    # checkpoint time\n",
    "checkpoint = 1000\n",
    "L = len(icsd.iloc[start_idx:])\n",
    "\n",
    "for i, entry in enumerate(icsd.iloc[start_idx:].itertuples()):\n",
    "    query = m.query(criteria={\"elements\": {\"$all\": entry.elements}, \"nelements\": len(entry.elements)}, \n",
    "                    properties=[\"task_id\", \"icsd_ids\", \"pretty_formula\"])\n",
    "    \n",
    "    # record query\n",
    "    if len(query):\n",
    "        l = []\n",
    "        for k in query:\n",
    "            if icsd.at[entry.Index,'icsd'] in k['icsd_ids']:\n",
    "                l += [k['task_id']]\n",
    "        \n",
    "        icsd.at[entry.Index, 'mp_id'] += l\n",
    "        \n",
    "    \n",
    "    # save checkpoint\n",
    "    if (i+1)%checkpoint == 0:\n",
    "        icsd.to_csv(outfile, index=False)\n",
    "        tf = default_timer()\n",
    "        print(i+1, '/', L, ':', tf-ti, 'sec.')\n",
    "        ti = tf\n",
    "        \n",
    "# final save\n",
    "icsd.to_csv(outfile, index=False)"
   ]
  }
 ],
 "metadata": {
  "kernelspec": {
   "display_name": "Python 3 (ipykernel)",
   "language": "python",
   "name": "python3"
  },
  "language_info": {
   "codemirror_mode": {
    "name": "ipython",
    "version": 3
   },
   "file_extension": ".py",
   "mimetype": "text/x-python",
   "name": "python",
   "nbconvert_exporter": "python",
   "pygments_lexer": "ipython3",
   "version": "3.7.5"
  }
 },
 "nbformat": 4,
 "nbformat_minor": 5
}
