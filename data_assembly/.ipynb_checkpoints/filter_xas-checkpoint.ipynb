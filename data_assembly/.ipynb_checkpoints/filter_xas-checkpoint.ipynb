{
 "cells": [
  {
   "cell_type": "code",
   "execution_count": 17,
   "id": "analyzed-tulsa",
   "metadata": {},
   "outputs": [],
   "source": [
    "import pandas as pd\n",
    "import numpy as np\n",
    "from pymatgen.core.structure import Structure"
   ]
  },
  {
   "cell_type": "code",
   "execution_count": 18,
   "id": "tight-persian",
   "metadata": {},
   "outputs": [
    {
     "name": "stdout",
     "output_type": "stream",
     "text": [
      "total spectra: 46452\n"
     ]
    }
   ],
   "source": [
    "df = pd.read_csv('../data/xas_query.csv')\n",
    "df['elements'] = df['elements'].apply(eval)\n",
    "df['spectra'] = df['spectra'].apply(eval)\n",
    "print('total spectra:', len(df))"
   ]
  },
  {
   "cell_type": "code",
   "execution_count": 19,
   "id": "current-royalty",
   "metadata": {},
   "outputs": [
    {
     "name": "stdout",
     "output_type": "stream",
     "text": [
      "total spectra: 32493\n"
     ]
    }
   ],
   "source": [
    "# remove entries without xas spectra\n",
    "df = df[df['spectra'].str.len()>0].reset_index(drop=True)\n",
    "print('total spectra:', len(df))"
   ]
  },
  {
   "cell_type": "code",
   "execution_count": 20,
   "id": "artificial-malawi",
   "metadata": {},
   "outputs": [
    {
     "name": "stdout",
     "output_type": "stream",
     "text": [
      "total spectra: 32493\n"
     ]
    }
   ],
   "source": [
    "# remove entries with NaNs in spectra\n",
    "nan_ids = []\n",
    "for i, entry in enumerate(df.itertuples()):\n",
    "    for _, xas in entry.spectra.items():\n",
    "        if np.any(np.isnan(xas['x'])) | np.any(np.isnan(xas['y'])):\n",
    "            nan_ids += [i]\n",
    "            break\n",
    "        \n",
    "df = df[~df.index.isin(nan_ids)].reset_index(drop=True)\n",
    "print('total spectra:', len(df))"
   ]
  },
  {
   "cell_type": "code",
   "execution_count": 21,
   "id": "departmental-england",
   "metadata": {},
   "outputs": [
    {
     "name": "stdout",
     "output_type": "stream",
     "text": [
      "total spectra: 32472\n"
     ]
    }
   ],
   "source": [
    "# remove flat spectra\n",
    "tol = 1e-3\n",
    "flat_ids = []\n",
    "for i, entry in enumerate(df.itertuples()):\n",
    "    for _, xas in entry.spectra.items():\n",
    "        if np.all(np.array(xas['y']) < tol):\n",
    "            flat_ids += [i]\n",
    "            break\n",
    "        \n",
    "df = df[~df.index.isin(flat_ids)].reset_index(drop=True)\n",
    "print('total spectra:', len(df))"
   ]
  },
  {
   "cell_type": "code",
   "execution_count": 22,
   "id": "58bc8318",
   "metadata": {},
   "outputs": [
    {
     "name": "stderr",
     "output_type": "stream",
     "text": [
      "/home/nina12/anaconda3/envs/xas_topo/lib/python3.7/site-packages/pymatgen/core/periodic_table.py:441: UserWarning: No electronegativity for Ar. Setting to NaN. This has no physical meaning, and is mainly done to avoid errors caused by the code expecting a float.\n",
      "  % self.symbol)\n",
      "/home/nina12/anaconda3/envs/xas_topo/lib/python3.7/site-packages/pymatgen/core/periodic_table.py:441: UserWarning: No electronegativity for He. Setting to NaN. This has no physical meaning, and is mainly done to avoid errors caused by the code expecting a float.\n",
      "  % self.symbol)\n",
      "/home/nina12/anaconda3/envs/xas_topo/lib/python3.7/site-packages/pymatgen/core/periodic_table.py:441: UserWarning: No electronegativity for Ne. Setting to NaN. This has no physical meaning, and is mainly done to avoid errors caused by the code expecting a float.\n",
      "  % self.symbol)\n"
     ]
    }
   ],
   "source": [
    "# standardize column names\n",
    "df = df.rename(columns={'sg': 'spacegroup'})\n",
    "\n",
    "# standardize formula representation\n",
    "df['structure'] = df['structure'].apply(eval).apply(Structure.from_dict)\n",
    "df['structure'] = df['structure'].map(lambda x: x.get_primitive_structure())\n",
    "df['formula'] = df['structure'].map(lambda x: x.formula)"
   ]
  },
  {
   "cell_type": "code",
   "execution_count": 23,
   "id": "knowing-american",
   "metadata": {},
   "outputs": [],
   "source": [
    "# save data\n",
    "df['structure'] = df['structure'].map(lambda x: x.as_dict())\n",
    "columns = ['icsd', 'formula', 'spacegroup', 'class', 'mp_id', 'structure', 'spectra']\n",
    "df.to_csv('../data/data.csv', columns=columns, index=False)"
   ]
  },
  {
   "cell_type": "code",
   "execution_count": null,
   "id": "70f6b59b",
   "metadata": {},
   "outputs": [],
   "source": []
  }
 ],
 "metadata": {
  "kernelspec": {
   "display_name": "Python 3 (ipykernel)",
   "language": "python",
   "name": "python3"
  },
  "language_info": {
   "codemirror_mode": {
    "name": "ipython",
    "version": 3
   },
   "file_extension": ".py",
   "mimetype": "text/x-python",
   "name": "python",
   "nbconvert_exporter": "python",
   "pygments_lexer": "ipython3",
   "version": "3.7.5"
  }
 },
 "nbformat": 4,
 "nbformat_minor": 5
}
