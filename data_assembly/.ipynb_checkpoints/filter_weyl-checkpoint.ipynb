{
 "cells": [
  {
   "cell_type": "code",
   "execution_count": null,
   "id": "d6ac4694",
   "metadata": {},
   "outputs": [],
   "source": [
    "import pandas as pd\n",
    "import numpy as np\n",
    "import re"
   ]
  },
  {
   "cell_type": "code",
   "execution_count": null,
   "id": "63b7bb58",
   "metadata": {},
   "outputs": [],
   "source": [
    "# read Weyl semimetal data\n",
    "dfw = pd.read_csv('../data/weyl_query.csv', delimiter='\\t')"
   ]
  },
  {
   "cell_type": "code",
   "execution_count": null,
   "id": "631e8ecb",
   "metadata": {},
   "outputs": [],
   "source": [
    "def get_element(x):\n",
    "    return re.split(r'(\\d*\\.?\\d+)', x.replace(' ',''))[:-1:2]\n",
    "\n",
    "# add elements column\n",
    "dfw['elements'] = dfw['formula'].map(lambda x: get_element(x))"
   ]
  },
  {
   "cell_type": "code",
   "execution_count": null,
   "id": "8850ac06",
   "metadata": {},
   "outputs": [],
   "source": [
    "# create an empty dataframe with the target columns\n",
    "cols = ['icsd','formula','spacegroup','mp_id','class','structure','spectra']\n",
    "df = pd.DataFrame(columns=cols)\n",
    "df['icsd'] = dfw['icsd']\n",
    "df['formula'] = dfw['formula']\n",
    "df['spacegroup'] = dfw['spacegroup']\n",
    "df['mp_id'] = dfw['mp_id']\n",
    "df['elements'] = dfw['elements']"
   ]
  },
  {
   "cell_type": "code",
   "execution_count": null,
   "id": "50563f2e",
   "metadata": {},
   "outputs": [],
   "source": [
    "# read dataframes\n",
    "df1 = pd.read_csv('../data/data.csv')\n",
    "df2 = pd.read_csv('../data/data_manual.csv')"
   ]
  },
  {
   "cell_type": "code",
   "execution_count": null,
   "id": "9471ec5b",
   "metadata": {},
   "outputs": [],
   "source": [
    "# combine dataframes\n",
    "dfm = df1.append(df2).reset_index(drop=True)"
   ]
  },
  {
   "cell_type": "code",
   "execution_count": null,
   "id": "63460a0b",
   "metadata": {
    "scrolled": false
   },
   "outputs": [],
   "source": [
    "for i, entry in enumerate(df.itertuples()):\n",
    "    mp_id = entry.mp_id\n",
    "    l = dict.fromkeys(entry.elements)\n",
    "    dfs = dfm[dfm['mp_id'].apply(lambda x: mp_id in x)].reset_index(drop=True)\n",
    "    if len(dfs) > 0:\n",
    "        df.at[entry.Index, 'structure'] = dfs.iloc[0]['structure']\n",
    "        df.at[entry.Index, 'spectra'] = dfs.iloc[0]['spectra']\n",
    "        df.at[entry.Index, 'class'] = 2"
   ]
  },
  {
   "cell_type": "code",
   "execution_count": null,
   "id": "d5262ba4",
   "metadata": {},
   "outputs": [],
   "source": [
    "# drop entries we didn't find\n",
    "df = df.dropna().reset_index(drop=True)"
   ]
  },
  {
   "cell_type": "code",
   "execution_count": null,
   "id": "866db32b",
   "metadata": {},
   "outputs": [],
   "source": [
    "# save selected columns to file\n",
    "df.to_csv('../data/data_weyl.csv', index=False, columns=cols)"
   ]
  },
  {
   "cell_type": "code",
   "execution_count": null,
   "id": "a7bd7c3d",
   "metadata": {},
   "outputs": [],
   "source": []
  }
 ],
 "metadata": {
  "kernelspec": {
   "display_name": "Python 3 (ipykernel)",
   "language": "python",
   "name": "python3"
  },
  "language_info": {
   "codemirror_mode": {
    "name": "ipython",
    "version": 3
   },
   "file_extension": ".py",
   "mimetype": "text/x-python",
   "name": "python",
   "nbconvert_exporter": "python",
   "pygments_lexer": "ipython3",
   "version": "3.7.5"
  }
 },
 "nbformat": 4,
 "nbformat_minor": 5
}
