{
 "cells": [
  {
   "cell_type": "code",
   "execution_count": 1,
   "id": "e62f03fd",
   "metadata": {},
   "outputs": [],
   "source": [
    "import pandas as pd\n",
    "import numpy as np\n",
    "import gemmi"
   ]
  },
  {
   "cell_type": "code",
   "execution_count": 2,
   "id": "0fe26edc",
   "metadata": {},
   "outputs": [],
   "source": [
    "def sg_symbol_to_number(x):\n",
    "    sg = gemmi.find_spacegroup_by_name(x)\n",
    "    try: sg = sg.number\n",
    "    except:\n",
    "        # format extension to the H-M notation\n",
    "        sg = gemmi.find_spacegroup_by_name(x[:-1] + ':' + x[-1])\n",
    "        try: sg = sg.number\n",
    "        except:\n",
    "            # remove S, Z, and HR terminations\n",
    "            if x[-1] in ['S', 'Z']:\n",
    "                sg = gemmi.find_spacegroup_by_name(x[:-1]).number\n",
    "            elif x[-2:] == 'HR':\n",
    "                sg = gemmi.find_spacegroup_by_name(x[:-2]).number\n",
    "    return sg"
   ]
  },
  {
   "cell_type": "code",
   "execution_count": 3,
   "id": "1c1d3ad9",
   "metadata": {},
   "outputs": [
    {
     "name": "stdout",
     "output_type": "stream",
     "text": [
      "number of icsd samples: 68352\n",
      "number of topological samples: 7365\n",
      "number of icsd samples (no duplicates): 68344\n",
      "number of samples: 71548\n"
     ]
    }
   ],
   "source": [
    "icsd_file = '../data/icsd_manual.csv'\n",
    "topo_file = '../data/topo_manual.csv'\n",
    "outfile = '../data/icsd_manual_process.csv'\n",
    "\n",
    "# read data files\n",
    "icsd_data = pd.read_csv(icsd_file)\n",
    "print('number of icsd samples:', len(icsd_data))\n",
    "\n",
    "topo_data = pd.read_csv(topo_file)\n",
    "print('number of topological samples:', len(topo_data))\n",
    "\n",
    "# convert spacegroup symbols to numbers\n",
    "icsd_data['spacegroup'] = icsd_data['sg_symbol'].map(lambda x: sg_symbol_to_number(x))\n",
    "\n",
    "# drop sg_symbol column\n",
    "icsd_data = icsd_data.drop(columns=['sg_symbol'])\n",
    "\n",
    "# drop duplicates\n",
    "icsd_data = icsd_data.drop_duplicates().reset_index(drop=True)\n",
    "print('number of icsd samples (no duplicates):', len(icsd_data))\n",
    "\n",
    "# merge icsd and topo data\n",
    "data = icsd_data.merge(topo_data, how='outer', on=['icsd', 'spacegroup', 'formula'])\n",
    "print('number of samples:', len(data))\n",
    "\n",
    "# set unclassified bands to 0 (trivial)\n",
    "data.loc[data['band'].isna(), 'band'] = 0\n",
    "data['band'] = data['band'].astype(int)"
   ]
  },
  {
   "cell_type": "code",
   "execution_count": 4,
   "id": "1aeae1eb",
   "metadata": {},
   "outputs": [],
   "source": [
    "data.to_csv(outfile, index=False)"
   ]
  }
 ],
 "metadata": {
  "kernelspec": {
   "display_name": "Python 3 (ipykernel)",
   "language": "python",
   "name": "python3"
  },
  "language_info": {
   "codemirror_mode": {
    "name": "ipython",
    "version": 3
   },
   "file_extension": ".py",
   "mimetype": "text/x-python",
   "name": "python",
   "nbconvert_exporter": "python",
   "pygments_lexer": "ipython3",
   "version": "3.7.5"
  }
 },
 "nbformat": 4,
 "nbformat_minor": 5
}
