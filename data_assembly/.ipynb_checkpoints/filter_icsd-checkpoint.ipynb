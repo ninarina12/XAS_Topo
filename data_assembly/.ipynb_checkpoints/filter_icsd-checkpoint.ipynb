{
 "cells": [
  {
   "cell_type": "code",
   "execution_count": 1,
   "id": "inappropriate-vaccine",
   "metadata": {},
   "outputs": [],
   "source": [
    "import pandas as pd\n",
    "import numpy as np\n",
    "import re\n",
    "from timeit import default_timer\n",
    "from pymatgen.ext.matproj import MPRester\n",
    "\n",
    "m = MPRester('N1mVV71oB4tEQmdioxJE')"
   ]
  },
  {
   "cell_type": "code",
   "execution_count": 2,
   "id": "based-moses",
   "metadata": {},
   "outputs": [],
   "source": [
    "def get_element(x):\n",
    "    return re.split(r'(\\d*\\.?\\d+)', x)[0]\n",
    "\n",
    "def clean_element(x):\n",
    "    try: x.remove('')\n",
    "    except: pass\n",
    "    \n",
    "    try: x.remove('nan')\n",
    "    except: pass\n",
    "    return x"
   ]
  },
  {
   "cell_type": "code",
   "execution_count": 32,
   "id": "revised-champagne",
   "metadata": {},
   "outputs": [],
   "source": [
    "infile = '../data/icsd.csv'\n",
    "outfile = '../data/icsd_query.csv'\n",
    "start_idx = 0\n",
    "\n",
    "if start_idx:\n",
    "    icsd = pd.read_csv(outfile)\n",
    "    icsd['elements'] = icsd['elements'].apply(eval)\n",
    "    icsd['mp_id'] = icsd['mp_id'].apply(eval)\n",
    "else:\n",
    "    icsd = pd.read_csv(infile, sep=';', header=0, names=['formula', 'icsd', 'sg', 'theory', 'ID', 'class'])\n",
    "    icsd['formula'] = icsd['formula'].apply(str)\n",
    "    icsd['icsd'] = icsd['icsd'].apply(int)\n",
    "    icsd['elements'] = icsd['formula'].map(lambda x:list(set(\n",
    "                                           [get_element(k) for k in x.replace('(', '').replace(')','').split(' ')])))\n",
    "    icsd['elements'] = icsd['elements'].apply(clean_element)\n",
    "    icsd['mp_id'] = np.empty((len(icsd), 0)).tolist()"
   ]
  },
  {
   "cell_type": "code",
   "execution_count": null,
   "id": "pursuant-solid",
   "metadata": {},
   "outputs": [],
   "source": [
    "ti = default_timer()    # checkpoint time\n",
    "checkpoint = 1000\n",
    "L = len(icsd.iloc[start_idx:])\n",
    "\n",
    "for i, entry in enumerate(icsd.iloc[start_idx:].itertuples()):\n",
    "    query = m.query(criteria={\"elements\": {\"$all\": entry.elements}, \"nelements\": len(entry.elements)}, \n",
    "                    properties=[\"task_id\", \"icsd_ids\", \"pretty_formula\"])\n",
    "    \n",
    "    # record query\n",
    "    if len(query):\n",
    "        l = []\n",
    "        for k in query:\n",
    "            if icsd.at[entry.Index,'icsd'] in k['icsd_ids']:\n",
    "                l += [k['task_id']]\n",
    "        \n",
    "        icsd.at[entry.Index, 'mp_id'] += l\n",
    "        \n",
    "    \n",
    "    # save checkpoint\n",
    "    if (i+1)%checkpoint == 0:\n",
    "        icsd.to_csv(outfile, index=False)\n",
    "        tf = default_timer()\n",
    "        print(i+1, '/', L, ':', tf-ti, 'sec.')\n",
    "        ti = tf\n",
    "        \n",
    "# final save\n",
    "icsd.to_csv(outfile, index=False)"
   ]
  }
 ],
 "metadata": {
  "kernelspec": {
   "display_name": "Python 3 (ipykernel)",
   "language": "python",
   "name": "python3"
  },
  "language_info": {
   "codemirror_mode": {
    "name": "ipython",
    "version": 3
   },
   "file_extension": ".py",
   "mimetype": "text/x-python",
   "name": "python",
   "nbconvert_exporter": "python",
   "pygments_lexer": "ipython3",
   "version": "3.7.5"
  }
 },
 "nbformat": 4,
 "nbformat_minor": 5
}
